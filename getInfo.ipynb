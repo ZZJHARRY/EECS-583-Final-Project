{
 "cells": [
  {
   "cell_type": "code",
   "execution_count": 16,
   "metadata": {
    "collapsed": true
   },
   "outputs": [
    {
     "name": "stdout",
     "output_type": "stream",
     "text": [
      "['BB0', '1129', '114d']\n",
      "['BB8', '1152', '1159']\n",
      "['BB10', '115b', '11cf']\n",
      "['BB33', '11d1', '11d4']\n",
      "['BB35', '11d7', '11d7']\n",
      "['BB36', '11db', '11e2']\n",
      "['BB38', '11e8', '11ee']\n"
     ]
    }
   ],
   "source": [
    "import pandas as pd\n",
    "f = open(\"toy.txt\", \"r\")\n",
    "address = []\n",
    "\n",
    "for x in f:\n",
    "  print(x.split())\n",
    "  address.append(x.split())"
   ]
  },
  {
   "cell_type": "code",
   "execution_count": 20,
   "outputs": [],
   "source": [
    "df = pd.read_csv(\"toy.txt\")"
   ],
   "metadata": {
    "collapsed": false,
    "pycharm": {
     "name": "#%%\n"
    }
   }
  },
  {
   "cell_type": "code",
   "execution_count": 27,
   "outputs": [
    {
     "name": "stdout",
     "output_type": "stream",
     "text": [
      "1129\n",
      "4393\n",
      "114d\n",
      "0\n",
      "1152\n",
      "4434\n",
      "1159\n",
      "8\n",
      "115b\n",
      "4443\n",
      "11cf\n",
      "10\n",
      "11d1\n",
      "4561\n",
      "11d4\n",
      "33\n",
      "11d7\n",
      "4567\n",
      "11d7\n",
      "35\n",
      "11db\n",
      "4571\n",
      "11e2\n",
      "36\n",
      "11e8\n",
      "4584\n",
      "11ee\n",
      "38\n",
      "[37, 8, 117, 4, 1, 8, 7]\n",
      "[0, 8, 10, 33, 35, 36, 38]\n"
     ]
    }
   ],
   "source": [
    "address\n",
    "sizes = []\n",
    "index = []\n",
    "for bb, start, end in address:\n",
    "  idx = bb[2:]\n",
    "  print(start)\n",
    "  start = int(start, 16)\n",
    "  print(start)\n",
    "  print(end)\n",
    "  end = int(end, 16)\n",
    "  size = end-start +1\n",
    "  sizes.append(size)\n",
    "  print(idx)\n",
    "  index.append(int(idx))\n",
    "print(sizes)\n",
    "print(index)"
   ],
   "metadata": {
    "collapsed": false,
    "pycharm": {
     "name": "#%%\n"
    }
   }
  },
  {
   "cell_type": "code",
   "execution_count": 37,
   "outputs": [
    {
     "name": "stdout",
     "output_type": "stream",
     "text": [
      "['bb0', 'bb36', '1']\n",
      "['bb33', 'bb35', '99999999']\n",
      "['bb35', 'bb36', '100000000']\n",
      "['bb36', 'bb8', '100000000']\n",
      "['bb36', 'bb38', '1']\n",
      "['bb8', 'bb33', '99999999']\n",
      "['bb8', 'bb10', '1']\n",
      "['bb10', 'bb35', '1']\n",
      "1\n",
      "99999999\n",
      "100000000\n",
      "100000000\n",
      "1\n",
      "99999999\n",
      "1\n",
      "1\n",
      "[[0.0000000e+00 0.0000000e+00 0.0000000e+00 0.0000000e+00 0.0000000e+00\n",
      "  1.0000000e+00 0.0000000e+00]\n",
      " [0.0000000e+00 0.0000000e+00 1.0000000e+00 9.9999999e+07 0.0000000e+00\n",
      "  0.0000000e+00 0.0000000e+00]\n",
      " [0.0000000e+00 0.0000000e+00 0.0000000e+00 0.0000000e+00 1.0000000e+00\n",
      "  0.0000000e+00 0.0000000e+00]\n",
      " [0.0000000e+00 0.0000000e+00 0.0000000e+00 0.0000000e+00 9.9999999e+07\n",
      "  0.0000000e+00 0.0000000e+00]\n",
      " [0.0000000e+00 0.0000000e+00 0.0000000e+00 0.0000000e+00 0.0000000e+00\n",
      "  1.0000000e+08 0.0000000e+00]\n",
      " [0.0000000e+00 1.0000000e+08 0.0000000e+00 0.0000000e+00 0.0000000e+00\n",
      "  0.0000000e+00 1.0000000e+00]\n",
      " [0.0000000e+00 0.0000000e+00 0.0000000e+00 0.0000000e+00 0.0000000e+00\n",
      "  0.0000000e+00 0.0000000e+00]]\n",
      "[[0.0, 0.0, 0.0, 0.0, 0.0, 1.0, 0.0], [0.0, 0.0, 1.0, 99999999.0, 0.0, 0.0, 0.0], [0.0, 0.0, 0.0, 0.0, 1.0, 0.0, 0.0], [0.0, 0.0, 0.0, 0.0, 99999999.0, 0.0, 0.0], [0.0, 0.0, 0.0, 0.0, 0.0, 100000000.0, 0.0], [0.0, 100000000.0, 0.0, 0.0, 0.0, 0.0, 1.0], [0.0, 0.0, 0.0, 0.0, 0.0, 0.0, 0.0]]\n"
     ]
    }
   ],
   "source": [
    "f = open(\"weights.txt\", \"r\")\n",
    "weights = []\n",
    "for x in f:\n",
    "  print(x.split())\n",
    "  weights.append(x.split())\n",
    "\n",
    "import numpy as np\n",
    "\n",
    "weight = np.zeros((len(sizes),len(sizes)))\n",
    "for i, j, w in weights:\n",
    "  i = i[2:]\n",
    "  j = j[2:]\n",
    "  i = int(i)\n",
    "  j = int(j)\n",
    "  weight[index.index(i)][index.index(j)] = w\n",
    "  print(w)\n",
    "print(weight)\n",
    "\n",
    "list = weight.tolist()\n",
    "print(list)"
   ],
   "metadata": {
    "collapsed": false,
    "pycharm": {
     "name": "#%%\n"
    }
   }
  },
  {
   "cell_type": "code",
   "execution_count": 38,
   "outputs": [
    {
     "name": "stdout",
     "output_type": "stream",
     "text": [
      "0\n",
      "38\n",
      "33\n",
      "35\n",
      "36\n",
      "8\n",
      "10\n"
     ]
    }
   ],
   "source": [
    "order = [0,6,3,4,5,1,2]\n",
    "for i in order:\n",
    "  print(index[i])"
   ],
   "metadata": {
    "collapsed": false,
    "pycharm": {
     "name": "#%%\n"
    }
   }
  }
 ],
 "metadata": {
  "kernelspec": {
   "display_name": "Python 3",
   "language": "python",
   "name": "python3"
  },
  "language_info": {
   "codemirror_mode": {
    "name": "ipython",
    "version": 2
   },
   "file_extension": ".py",
   "mimetype": "text/x-python",
   "name": "python",
   "nbconvert_exporter": "python",
   "pygments_lexer": "ipython2",
   "version": "2.7.6"
  }
 },
 "nbformat": 4,
 "nbformat_minor": 0
}